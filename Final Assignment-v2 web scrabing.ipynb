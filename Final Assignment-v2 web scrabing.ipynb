{
 "cells": [
  {
   "cell_type": "markdown",
   "id": "ee44ab90-0773-490e-b91d-d873d41e2b63",
   "metadata": {},
   "source": [
    "<p style=\"text-align:center\">\n",
    "    <a href=\"https://skills.network/?utm_medium=Exinfluencer&utm_source=Exinfluencer&utm_content=000026UJ&utm_term=10006555&utm_id=NA-SkillsNetwork-Channel-SkillsNetworkCoursesIBMDeveloperSkillsNetworkPY0220ENSkillsNetwork900-2022-01-01\" target=\"_blank\">\n",
    "    <img src=\"https://cf-courses-data.s3.us.cloud-object-storage.appdomain.cloud/assets/logos/SN_web_lightmode.png\" width=\"200\" alt=\"Skills Network Logo\">\n",
    "    </a>\n",
    "</p>\n"
   ]
  },
  {
   "cell_type": "markdown",
   "id": "c124cf46-f5a3-43dd-b851-0dca82c4cd07",
   "metadata": {},
   "source": [
    "<h1>Extracting and Visualizing Stock Data</h1>\n",
    "<h2>Description</h2>\n"
   ]
  },
  {
   "cell_type": "markdown",
   "id": "8546868b-0b32-414a-b1c9-f188dc7d5751",
   "metadata": {},
   "source": [
    "Extracting essential data from a dataset and displaying it is a necessary part of data science; therefore individuals can make correct decisions based on the data. In this assignment, you will extract some stock data, you will then display this data in a graph.\n"
   ]
  },
  {
   "cell_type": "markdown",
   "id": "b389be44-bfac-4d23-a73e-9040d4b7c481",
   "metadata": {},
   "source": [
    "<h2>Table of Contents</h2>\n",
    "<div class=\"alert alert-block alert-info\" style=\"margin-top: 20px\">\n",
    "    <ul>\n",
    "        <li>Define a Function that Makes a Graph</li>\n",
    "        <li>Question 1: Use yfinance to Extract Stock Data</li>\n",
    "        <li>Question 2: Use Webscraping to Extract Tesla Revenue Data</li>\n",
    "        <li>Question 3: Use yfinance to Extract Stock Data</li>\n",
    "        <li>Question 4: Use Webscraping to Extract GME Revenue Data</li>\n",
    "        <li>Question 5: Plot Tesla Stock Graph</li>\n",
    "        <li>Question 6: Plot GameStop Stock Graph</li>\n",
    "    </ul>\n",
    "<p>\n",
    "    Estimated Time Needed: <strong>30 min</strong></p>\n",
    "</div>\n",
    "\n",
    "<hr>\n"
   ]
  },
  {
   "cell_type": "markdown",
   "id": "5dcd8ff6-f4a8-484d-8e6f-97d450080a93",
   "metadata": {},
   "source": [
    "***Note***:- If you are working Locally using anaconda, please uncomment the following code and execute it.\n",
    "Use the version as per your python version.\n"
   ]
  },
  {
   "cell_type": "code",
   "execution_count": 1,
   "id": "7c11681e-96df-4752-8fcc-b4b25aeecd59",
   "metadata": {},
   "outputs": [
    {
     "name": "stdout",
     "output_type": "stream",
     "text": [
      "Requirement already satisfied: yfinance in c:\\users\\dell\\appdata\\local\\programs\\python\\python313\\lib\\site-packages (0.2.66)\n",
      "Requirement already satisfied: pandas>=1.3.0 in c:\\users\\dell\\appdata\\local\\programs\\python\\python313\\lib\\site-packages (from yfinance) (2.3.2)\n",
      "Requirement already satisfied: numpy>=1.16.5 in c:\\users\\dell\\appdata\\local\\programs\\python\\python313\\lib\\site-packages (from yfinance) (2.3.2)\n",
      "Requirement already satisfied: requests>=2.31 in c:\\users\\dell\\appdata\\local\\programs\\python\\python313\\lib\\site-packages (from yfinance) (2.32.4)\n",
      "Requirement already satisfied: multitasking>=0.0.7 in c:\\users\\dell\\appdata\\local\\programs\\python\\python313\\lib\\site-packages (from yfinance) (0.0.12)\n",
      "Requirement already satisfied: platformdirs>=2.0.0 in c:\\users\\dell\\appdata\\local\\programs\\python\\python313\\lib\\site-packages (from yfinance) (4.3.8)\n",
      "Requirement already satisfied: pytz>=2022.5 in c:\\users\\dell\\appdata\\local\\programs\\python\\python313\\lib\\site-packages (from yfinance) (2025.2)\n",
      "Requirement already satisfied: frozendict>=2.3.4 in c:\\users\\dell\\appdata\\local\\programs\\python\\python313\\lib\\site-packages (from yfinance) (2.4.6)\n",
      "Requirement already satisfied: peewee>=3.16.2 in c:\\users\\dell\\appdata\\local\\programs\\python\\python313\\lib\\site-packages (from yfinance) (3.18.2)\n",
      "Requirement already satisfied: beautifulsoup4>=4.11.1 in c:\\users\\dell\\appdata\\local\\programs\\python\\python313\\lib\\site-packages (from yfinance) (4.13.5)\n",
      "Requirement already satisfied: curl_cffi>=0.7 in c:\\users\\dell\\appdata\\local\\programs\\python\\python313\\lib\\site-packages (from yfinance) (0.13.0)\n",
      "Requirement already satisfied: protobuf>=3.19.0 in c:\\users\\dell\\appdata\\local\\programs\\python\\python313\\lib\\site-packages (from yfinance) (6.32.1)\n",
      "Requirement already satisfied: websockets>=13.0 in c:\\users\\dell\\appdata\\local\\programs\\python\\python313\\lib\\site-packages (from yfinance) (15.0.1)\n",
      "Requirement already satisfied: soupsieve>1.2 in c:\\users\\dell\\appdata\\local\\programs\\python\\python313\\lib\\site-packages (from beautifulsoup4>=4.11.1->yfinance) (2.7)\n",
      "Requirement already satisfied: typing-extensions>=4.0.0 in c:\\users\\dell\\appdata\\local\\programs\\python\\python313\\lib\\site-packages (from beautifulsoup4>=4.11.1->yfinance) (4.14.1)\n",
      "Requirement already satisfied: cffi>=1.12.0 in c:\\users\\dell\\appdata\\local\\programs\\python\\python313\\lib\\site-packages (from curl_cffi>=0.7->yfinance) (1.17.1)\n",
      "Requirement already satisfied: certifi>=2024.2.2 in c:\\users\\dell\\appdata\\local\\programs\\python\\python313\\lib\\site-packages (from curl_cffi>=0.7->yfinance) (2025.8.3)\n",
      "Requirement already satisfied: pycparser in c:\\users\\dell\\appdata\\local\\programs\\python\\python313\\lib\\site-packages (from cffi>=1.12.0->curl_cffi>=0.7->yfinance) (2.22)\n",
      "Requirement already satisfied: python-dateutil>=2.8.2 in c:\\users\\dell\\appdata\\local\\programs\\python\\python313\\lib\\site-packages (from pandas>=1.3.0->yfinance) (2.9.0.post0)\n",
      "Requirement already satisfied: tzdata>=2022.7 in c:\\users\\dell\\appdata\\local\\programs\\python\\python313\\lib\\site-packages (from pandas>=1.3.0->yfinance) (2025.2)\n",
      "Requirement already satisfied: six>=1.5 in c:\\users\\dell\\appdata\\local\\programs\\python\\python313\\lib\\site-packages (from python-dateutil>=2.8.2->pandas>=1.3.0->yfinance) (1.17.0)\n",
      "Requirement already satisfied: charset_normalizer<4,>=2 in c:\\users\\dell\\appdata\\local\\programs\\python\\python313\\lib\\site-packages (from requests>=2.31->yfinance) (3.4.3)\n",
      "Requirement already satisfied: idna<4,>=2.5 in c:\\users\\dell\\appdata\\local\\programs\\python\\python313\\lib\\site-packages (from requests>=2.31->yfinance) (3.10)\n",
      "Requirement already satisfied: urllib3<3,>=1.21.1 in c:\\users\\dell\\appdata\\local\\programs\\python\\python313\\lib\\site-packages (from requests>=2.31->yfinance) (2.5.0)\n",
      "Requirement already satisfied: bs4 in c:\\users\\dell\\appdata\\local\\programs\\python\\python313\\lib\\site-packages (0.0.2)\n",
      "Requirement already satisfied: beautifulsoup4 in c:\\users\\dell\\appdata\\local\\programs\\python\\python313\\lib\\site-packages (from bs4) (4.13.5)\n",
      "Requirement already satisfied: soupsieve>1.2 in c:\\users\\dell\\appdata\\local\\programs\\python\\python313\\lib\\site-packages (from beautifulsoup4->bs4) (2.7)\n",
      "Requirement already satisfied: typing-extensions>=4.0.0 in c:\\users\\dell\\appdata\\local\\programs\\python\\python313\\lib\\site-packages (from beautifulsoup4->bs4) (4.14.1)\n",
      "Requirement already satisfied: nbformat in c:\\users\\dell\\appdata\\local\\programs\\python\\python313\\lib\\site-packages (5.10.4)\n",
      "Requirement already satisfied: fastjsonschema>=2.15 in c:\\users\\dell\\appdata\\local\\programs\\python\\python313\\lib\\site-packages (from nbformat) (2.21.1)\n",
      "Requirement already satisfied: jsonschema>=2.6 in c:\\users\\dell\\appdata\\local\\programs\\python\\python313\\lib\\site-packages (from nbformat) (4.25.0)\n",
      "Requirement already satisfied: jupyter-core!=5.0.*,>=4.12 in c:\\users\\dell\\appdata\\local\\programs\\python\\python313\\lib\\site-packages (from nbformat) (5.8.1)\n",
      "Requirement already satisfied: traitlets>=5.1 in c:\\users\\dell\\appdata\\local\\programs\\python\\python313\\lib\\site-packages (from nbformat) (5.14.3)\n",
      "Requirement already satisfied: attrs>=22.2.0 in c:\\users\\dell\\appdata\\local\\programs\\python\\python313\\lib\\site-packages (from jsonschema>=2.6->nbformat) (25.3.0)\n",
      "Requirement already satisfied: jsonschema-specifications>=2023.03.6 in c:\\users\\dell\\appdata\\local\\programs\\python\\python313\\lib\\site-packages (from jsonschema>=2.6->nbformat) (2025.4.1)\n",
      "Requirement already satisfied: referencing>=0.28.4 in c:\\users\\dell\\appdata\\local\\programs\\python\\python313\\lib\\site-packages (from jsonschema>=2.6->nbformat) (0.36.2)\n",
      "Requirement already satisfied: rpds-py>=0.7.1 in c:\\users\\dell\\appdata\\local\\programs\\python\\python313\\lib\\site-packages (from jsonschema>=2.6->nbformat) (0.27.0)\n",
      "Requirement already satisfied: platformdirs>=2.5 in c:\\users\\dell\\appdata\\local\\programs\\python\\python313\\lib\\site-packages (from jupyter-core!=5.0.*,>=4.12->nbformat) (4.3.8)\n",
      "Requirement already satisfied: pywin32>=300 in c:\\users\\dell\\appdata\\local\\programs\\python\\python313\\lib\\site-packages (from jupyter-core!=5.0.*,>=4.12->nbformat) (311)\n",
      "Requirement already satisfied: plotly in c:\\users\\dell\\appdata\\local\\programs\\python\\python313\\lib\\site-packages (6.2.0)\n",
      "Collecting plotly\n",
      "  Downloading plotly-6.3.0-py3-none-any.whl.metadata (8.5 kB)\n",
      "Requirement already satisfied: narwhals>=1.15.1 in c:\\users\\dell\\appdata\\local\\programs\\python\\python313\\lib\\site-packages (from plotly) (2.0.1)\n",
      "Requirement already satisfied: packaging in c:\\users\\dell\\appdata\\local\\programs\\python\\python313\\lib\\site-packages (from plotly) (25.0)\n",
      "Downloading plotly-6.3.0-py3-none-any.whl (9.8 MB)\n",
      "   ---------------------------------------- 0.0/9.8 MB ? eta -:--:--\n",
      "   ---------------------------------------- 0.0/9.8 MB ? eta -:--:--\n",
      "   - -------------------------------------- 0.3/9.8 MB ? eta -:--:--\n",
      "   --- ------------------------------------ 0.8/9.8 MB 1.6 MB/s eta 0:00:06\n",
      "   ---- ----------------------------------- 1.0/9.8 MB 1.6 MB/s eta 0:00:06\n",
      "   ----- ---------------------------------- 1.3/9.8 MB 1.6 MB/s eta 0:00:06\n",
      "   ------ --------------------------------- 1.6/9.8 MB 1.5 MB/s eta 0:00:06\n",
      "   -------- ------------------------------- 2.1/9.8 MB 1.6 MB/s eta 0:00:05\n",
      "   ---------- ----------------------------- 2.6/9.8 MB 1.8 MB/s eta 0:00:05\n",
      "   ------------ --------------------------- 3.1/9.8 MB 1.8 MB/s eta 0:00:04\n",
      "   -------------- ------------------------- 3.7/9.8 MB 1.9 MB/s eta 0:00:04\n",
      "   ----------------- ---------------------- 4.2/9.8 MB 2.0 MB/s eta 0:00:03\n",
      "   ------------------- -------------------- 4.7/9.8 MB 2.0 MB/s eta 0:00:03\n",
      "   -------------------- ------------------- 5.0/9.8 MB 1.9 MB/s eta 0:00:03\n",
      "   --------------------- ------------------ 5.2/9.8 MB 1.9 MB/s eta 0:00:03\n",
      "   ----------------------- ---------------- 5.8/9.8 MB 1.9 MB/s eta 0:00:03\n",
      "   ------------------------ --------------- 6.0/9.8 MB 1.9 MB/s eta 0:00:03\n",
      "   ------------------------- -------------- 6.3/9.8 MB 1.8 MB/s eta 0:00:02\n",
      "   -------------------------- ------------- 6.6/9.8 MB 1.8 MB/s eta 0:00:02\n",
      "   --------------------------- ------------ 6.8/9.8 MB 1.8 MB/s eta 0:00:02\n",
      "   ---------------------------- ----------- 7.1/9.8 MB 1.7 MB/s eta 0:00:02\n",
      "   ----------------------------- ---------- 7.3/9.8 MB 1.8 MB/s eta 0:00:02\n",
      "   ------------------------------- -------- 7.6/9.8 MB 1.7 MB/s eta 0:00:02\n",
      "   --------------------------------- ------ 8.1/9.8 MB 1.7 MB/s eta 0:00:01\n",
      "   --------------------------------- ------ 8.1/9.8 MB 1.7 MB/s eta 0:00:01\n",
      "   ----------------------------------- ---- 8.7/9.8 MB 1.6 MB/s eta 0:00:01\n",
      "   ------------------------------------ --- 8.9/9.8 MB 1.7 MB/s eta 0:00:01\n",
      "   ------------------------------------- -- 9.2/9.8 MB 1.6 MB/s eta 0:00:01\n",
      "   -------------------------------------- - 9.4/9.8 MB 1.6 MB/s eta 0:00:01\n",
      "   ---------------------------------------- 9.8/9.8 MB 1.6 MB/s  0:00:06\n",
      "Installing collected packages: plotly\n",
      "  Attempting uninstall: plotly\n",
      "    Found existing installation: plotly 6.2.0\n",
      "    Uninstalling plotly-6.2.0:\n",
      "      Successfully uninstalled plotly-6.2.0\n",
      "Successfully installed plotly-6.3.0\n"
     ]
    }
   ],
   "source": [
    "!pip install yfinance\n",
    "!pip install bs4\n",
    "!pip install nbformat\n",
    "!pip install --upgrade plotly"
   ]
  },
  {
   "cell_type": "code",
   "execution_count": null,
   "id": "3dec5d0b-4b18-4031-b3bb-5e379c5610fa",
   "metadata": {},
   "outputs": [
    {
     "ename": "IndentationError",
     "evalue": "unexpected indent (1901662633.py, line 1)",
     "output_type": "error",
     "traceback": [
      "  \u001b[36mCell\u001b[39m\u001b[36m \u001b[39m\u001b[32mIn[2]\u001b[39m\u001b[32m, line 1\u001b[39m\n\u001b[31m    \u001b[39m\u001b[31mimport yfinance as yf\u001b[39m\n    ^\n\u001b[31mIndentationError\u001b[39m\u001b[31m:\u001b[39m unexpected indent\n"
     ]
    }
   ],
   "source": [
    "    import yfinance as yf\n",
    "import pandas as pd\n",
    "import requests\n",
    "import plotly.graph_objects as go\n",
    "from plotly.subplots import make_subplots"
   ]
  },
  {
   "cell_type": "code",
   "execution_count": null,
   "id": "7c62b370-f449-4ea3-a214-032a29690a59",
   "metadata": {},
   "outputs": [],
   "source": [
    "import plotly.io as pio\n",
    "pio.renderers.default = \"iframe\""
   ]
  },
  {
   "cell_type": "markdown",
   "id": "d263a878-4749-4e6f-978d-845949242c24",
   "metadata": {},
   "source": [
    "In Python, you can ignore warnings using the warnings module. You can use the filterwarnings function to filter or ignore specific warning messages or categories.\n"
   ]
  },
  {
   "cell_type": "code",
   "execution_count": null,
   "id": "1991fb91-dfff-48bc-8608-6c0522e4efc7",
   "metadata": {},
   "outputs": [],
   "source": [
    "import warnings\n",
    "# Ignore all warnings\n",
    "warnings.filterwarnings(\"ignore\", category=FutureWarning)"
   ]
  },
  {
   "cell_type": "markdown",
   "id": "245f3057-3c80-4ff6-af81-ff37f1a2f4f1",
   "metadata": {},
   "source": [
    "## Define Graphing Function\n"
   ]
  },
  {
   "cell_type": "markdown",
   "id": "58d2fc0e-0d53-4bde-be61-73b3e0c8a1dc",
   "metadata": {},
   "source": [
    "In this section, we define the function `make_graph`. **You don't have to know how the function works, you should only care about the inputs. It takes a dataframe with stock data (dataframe must contain Date and Close columns), a dataframe with revenue data (dataframe must contain Date and Revenue columns), and the name of the stock.**\n"
   ]
  },
  {
   "cell_type": "code",
   "execution_count": null,
   "id": "35bdc092-02e5-4a85-b12b-e7f072208719",
   "metadata": {},
   "outputs": [],
   "source": [
    "def make_graph(stock_data, revenue_data, stock):\n",
    "    fig = make_subplots(rows=2, cols=1, shared_xaxes=True, subplot_titles=(\"Historical Share Price\", \"Historical Revenue\"), vertical_spacing = .3)\n",
    "    stock_data_specific = stock_data[stock_data.Date <= '2021-06-14']\n",
    "    revenue_data_specific = revenue_data[revenue_data.Date <= '2021-04-30']\n",
    "    fig.add_trace(go.Scatter(x=pd.to_datetime(stock_data_specific.Date, infer_datetime_format=True), y=stock_data_specific.Close.astype(\"float\"), name=\"Share Price\"), row=1, col=1)\n",
    "    fig.add_trace(go.Scatter(x=pd.to_datetime(revenue_data_specific.Date, infer_datetime_format=True), y=revenue_data_specific.Revenue.astype(\"float\"), name=\"Revenue\"), row=2, col=1)\n",
    "    fig.update_xaxes(title_text=\"Date\", row=1, col=1)\n",
    "    fig.update_xaxes(title_text=\"Date\", row=2, col=1)\n",
    "    fig.update_yaxes(title_text=\"Price ($US)\", row=1, col=1)\n",
    "    fig.update_yaxes(title_text=\"Revenue ($US Millions)\", row=2, col=1)\n",
    "    fig.update_layout(showlegend=False,\n",
    "    height=900,\n",
    "    title=stock,\n",
    "    xaxis_rangeslider_visible=True)\n",
    "    fig.show()\n",
    "    from IPython.display import display, HTML\n",
    "    fig_html = fig.to_html()\n",
    "    display(HTML(fig_html))"
   ]
  },
  {
   "cell_type": "markdown",
   "id": "82ed5ca9-7f4f-45ef-8638-7c2f4f9f45d5",
   "metadata": {},
   "source": [
    "Use the make_graph function that we’ve already defined. You’ll need to invoke it in questions 5 and 6 to display the graphs and create the dashboard. \n",
    "> **Note: You don’t need to redefine the function for plotting graphs anywhere else in this notebook; just use the existing function.**\n"
   ]
  },
  {
   "cell_type": "markdown",
   "id": "068dd708-41bd-43dc-842c-6661eab0ae36",
   "metadata": {},
   "source": [
    "## Question 1: Use yfinance to Extract Stock Data\n"
   ]
  },
  {
   "cell_type": "markdown",
   "id": "dfbc390d-cd90-4821-8f60-b2d8b56abcdc",
   "metadata": {},
   "source": [
    "Using the `Ticker` function enter the ticker symbol of the stock we want to extract data on to create a ticker object. The stock is Tesla and its ticker symbol is `TSLA`.\n"
   ]
  },
  {
   "cell_type": "code",
   "execution_count": 2,
   "id": "41b3563e-d177-4b0b-bc51-a72e76da238a",
   "metadata": {},
   "outputs": [
    {
     "name": "stdout",
     "output_type": "stream",
     "text": [
      "Tesla Stock Data Info:\n",
      "Shape: (3833, 8)\n",
      "Date Range: 2010-06-29 to 2025-09-23\n",
      "Columns: ['Date', 'Open', 'High', 'Low', 'Close', 'Volume', 'Dividends', 'Stock Splits']\n",
      "\n",
      "First 5 rows of Tesla Stock Data:\n"
     ]
    },
    {
     "data": {
      "text/html": [
       "<style type=\"text/css\">\n",
       "</style>\n",
       "<table id=\"T_12688\">\n",
       "  <caption>Tesla Stock Data - First 5 Rows</caption>\n",
       "  <thead>\n",
       "    <tr>\n",
       "      <th class=\"blank level0\" >&nbsp;</th>\n",
       "      <th id=\"T_12688_level0_col0\" class=\"col_heading level0 col0\" >Date</th>\n",
       "      <th id=\"T_12688_level0_col1\" class=\"col_heading level0 col1\" >Open</th>\n",
       "      <th id=\"T_12688_level0_col2\" class=\"col_heading level0 col2\" >High</th>\n",
       "      <th id=\"T_12688_level0_col3\" class=\"col_heading level0 col3\" >Low</th>\n",
       "      <th id=\"T_12688_level0_col4\" class=\"col_heading level0 col4\" >Close</th>\n",
       "      <th id=\"T_12688_level0_col5\" class=\"col_heading level0 col5\" >Volume</th>\n",
       "      <th id=\"T_12688_level0_col6\" class=\"col_heading level0 col6\" >Dividends</th>\n",
       "      <th id=\"T_12688_level0_col7\" class=\"col_heading level0 col7\" >Stock Splits</th>\n",
       "    </tr>\n",
       "  </thead>\n",
       "  <tbody>\n",
       "    <tr>\n",
       "      <th id=\"T_12688_level0_row0\" class=\"row_heading level0 row0\" >0</th>\n",
       "      <td id=\"T_12688_row0_col0\" class=\"data row0 col0\" >2010-06-29</td>\n",
       "      <td id=\"T_12688_row0_col1\" class=\"data row0 col1\" >1.266667</td>\n",
       "      <td id=\"T_12688_row0_col2\" class=\"data row0 col2\" >1.666667</td>\n",
       "      <td id=\"T_12688_row0_col3\" class=\"data row0 col3\" >1.169333</td>\n",
       "      <td id=\"T_12688_row0_col4\" class=\"data row0 col4\" >1.592667</td>\n",
       "      <td id=\"T_12688_row0_col5\" class=\"data row0 col5\" >281494500</td>\n",
       "      <td id=\"T_12688_row0_col6\" class=\"data row0 col6\" >0.000000</td>\n",
       "      <td id=\"T_12688_row0_col7\" class=\"data row0 col7\" >0.000000</td>\n",
       "    </tr>\n",
       "    <tr>\n",
       "      <th id=\"T_12688_level0_row1\" class=\"row_heading level0 row1\" >1</th>\n",
       "      <td id=\"T_12688_row1_col0\" class=\"data row1 col0\" >2010-06-30</td>\n",
       "      <td id=\"T_12688_row1_col1\" class=\"data row1 col1\" >1.719333</td>\n",
       "      <td id=\"T_12688_row1_col2\" class=\"data row1 col2\" >2.028000</td>\n",
       "      <td id=\"T_12688_row1_col3\" class=\"data row1 col3\" >1.553333</td>\n",
       "      <td id=\"T_12688_row1_col4\" class=\"data row1 col4\" >1.588667</td>\n",
       "      <td id=\"T_12688_row1_col5\" class=\"data row1 col5\" >257806500</td>\n",
       "      <td id=\"T_12688_row1_col6\" class=\"data row1 col6\" >0.000000</td>\n",
       "      <td id=\"T_12688_row1_col7\" class=\"data row1 col7\" >0.000000</td>\n",
       "    </tr>\n",
       "    <tr>\n",
       "      <th id=\"T_12688_level0_row2\" class=\"row_heading level0 row2\" >2</th>\n",
       "      <td id=\"T_12688_row2_col0\" class=\"data row2 col0\" >2010-07-01</td>\n",
       "      <td id=\"T_12688_row2_col1\" class=\"data row2 col1\" >1.666667</td>\n",
       "      <td id=\"T_12688_row2_col2\" class=\"data row2 col2\" >1.728000</td>\n",
       "      <td id=\"T_12688_row2_col3\" class=\"data row2 col3\" >1.351333</td>\n",
       "      <td id=\"T_12688_row2_col4\" class=\"data row2 col4\" >1.464000</td>\n",
       "      <td id=\"T_12688_row2_col5\" class=\"data row2 col5\" >123282000</td>\n",
       "      <td id=\"T_12688_row2_col6\" class=\"data row2 col6\" >0.000000</td>\n",
       "      <td id=\"T_12688_row2_col7\" class=\"data row2 col7\" >0.000000</td>\n",
       "    </tr>\n",
       "    <tr>\n",
       "      <th id=\"T_12688_level0_row3\" class=\"row_heading level0 row3\" >3</th>\n",
       "      <td id=\"T_12688_row3_col0\" class=\"data row3 col0\" >2010-07-02</td>\n",
       "      <td id=\"T_12688_row3_col1\" class=\"data row3 col1\" >1.533333</td>\n",
       "      <td id=\"T_12688_row3_col2\" class=\"data row3 col2\" >1.540000</td>\n",
       "      <td id=\"T_12688_row3_col3\" class=\"data row3 col3\" >1.247333</td>\n",
       "      <td id=\"T_12688_row3_col4\" class=\"data row3 col4\" >1.280000</td>\n",
       "      <td id=\"T_12688_row3_col5\" class=\"data row3 col5\" >77097000</td>\n",
       "      <td id=\"T_12688_row3_col6\" class=\"data row3 col6\" >0.000000</td>\n",
       "      <td id=\"T_12688_row3_col7\" class=\"data row3 col7\" >0.000000</td>\n",
       "    </tr>\n",
       "    <tr>\n",
       "      <th id=\"T_12688_level0_row4\" class=\"row_heading level0 row4\" >4</th>\n",
       "      <td id=\"T_12688_row4_col0\" class=\"data row4 col0\" >2010-07-06</td>\n",
       "      <td id=\"T_12688_row4_col1\" class=\"data row4 col1\" >1.333333</td>\n",
       "      <td id=\"T_12688_row4_col2\" class=\"data row4 col2\" >1.333333</td>\n",
       "      <td id=\"T_12688_row4_col3\" class=\"data row4 col3\" >1.055333</td>\n",
       "      <td id=\"T_12688_row4_col4\" class=\"data row4 col4\" >1.074000</td>\n",
       "      <td id=\"T_12688_row4_col5\" class=\"data row4 col5\" >103003500</td>\n",
       "      <td id=\"T_12688_row4_col6\" class=\"data row4 col6\" >0.000000</td>\n",
       "      <td id=\"T_12688_row4_col7\" class=\"data row4 col7\" >0.000000</td>\n",
       "    </tr>\n",
       "  </tbody>\n",
       "</table>\n"
      ],
      "text/plain": [
       "<pandas.io.formats.style.Styler at 0x21b7b6c9e80>"
      ]
     },
     "metadata": {},
     "output_type": "display_data"
    }
   ],
   "source": [
    "# Question 1: Use yfinance to Extract Tesla Stock Data\n",
    "import yfinance as yf\n",
    "import pandas as pd\n",
    "\n",
    "def extract_tesla_stock_data():\n",
    "    try:\n",
    "        # Create ticker object for Tesla\n",
    "        tesla_ticker = yf.Ticker(\"TSLA\")\n",
    "        \n",
    "        # Extract historical data with max period\n",
    "        tesla_data = tesla_ticker.history(period=\"max\")\n",
    "        \n",
    "        # Reset index and convert Date to datetime\n",
    "        tesla_data.reset_index(inplace=True)\n",
    "        tesla_data['Date'] = pd.to_datetime(tesla_data['Date']).dt.date\n",
    "        \n",
    "        # Display information about the data\n",
    "        print(\"Tesla Stock Data Info:\")\n",
    "        print(f\"Shape: {tesla_data.shape}\")\n",
    "        print(f\"Date Range: {tesla_data['Date'].min()} to {tesla_data['Date'].max()}\")\n",
    "        print(f\"Columns: {list(tesla_data.columns)}\")\n",
    "        \n",
    "        # Display first 5 rows with proper formatting\n",
    "        print(\"\\nFirst 5 rows of Tesla Stock Data:\")\n",
    "        display(tesla_data.head().style.set_caption(\"Tesla Stock Data - First 5 Rows\"))\n",
    "        \n",
    "        return tesla_data\n",
    "    \n",
    "    except Exception as e:\n",
    "        print(f\"Error extracting Tesla stock data: {e}\")\n",
    "        return None\n",
    "\n",
    "# Execute Question 1\n",
    "tesla_data = extract_tesla_stock_data()"
   ]
  },
  {
   "cell_type": "markdown",
   "id": "20fcdb36-e9c5-4f2a-9033-c24c90549207",
   "metadata": {},
   "source": [
    "Using the ticker object and the function `history` extract stock information and save it in a dataframe named `tesla_data`. Set the `period` parameter to ` \"max\" ` so we get information for the maximum amount of time.\n"
   ]
  },
  {
   "cell_type": "code",
   "execution_count": 3,
   "id": "ad79d25e-5ef9-45ee-9e18-d62f6a12c987",
   "metadata": {},
   "outputs": [
    {
     "name": "stdout",
     "output_type": "stream",
     "text": [
      "Tesla Stock Data extracted successfully!\n",
      "Data shape: (3833, 7)\n",
      "Date range: 2010-06-29 00:00:00-04:00 to 2025-09-23 00:00:00-04:00\n",
      "Columns: ['Open', 'High', 'Low', 'Close', 'Volume', 'Dividends', 'Stock Splits']\n",
      "\n",
      "First 5 rows of Tesla stock data:\n",
      "                               Open      High       Low     Close     Volume  \\\n",
      "Date                                                                           \n",
      "2010-06-29 00:00:00-04:00  1.266667  1.666667  1.169333  1.592667  281494500   \n",
      "2010-06-30 00:00:00-04:00  1.719333  2.028000  1.553333  1.588667  257806500   \n",
      "2010-07-01 00:00:00-04:00  1.666667  1.728000  1.351333  1.464000  123282000   \n",
      "2010-07-02 00:00:00-04:00  1.533333  1.540000  1.247333  1.280000   77097000   \n",
      "2010-07-06 00:00:00-04:00  1.333333  1.333333  1.055333  1.074000  103003500   \n",
      "\n",
      "                           Dividends  Stock Splits  \n",
      "Date                                                \n",
      "2010-06-29 00:00:00-04:00        0.0           0.0  \n",
      "2010-06-30 00:00:00-04:00        0.0           0.0  \n",
      "2010-07-01 00:00:00-04:00        0.0           0.0  \n",
      "2010-07-02 00:00:00-04:00        0.0           0.0  \n",
      "2010-07-06 00:00:00-04:00        0.0           0.0  \n"
     ]
    }
   ],
   "source": [
    "# Question 1: Use yfinance to Extract Tesla Stock Data\n",
    "\n",
    "# Create a ticker object for Tesla\n",
    "tesla = yf.Ticker(\"TSLA\")\n",
    "\n",
    "# Using the ticker object and the history function extract stock information\n",
    "# Set the period parameter to \"max\" to get information for the maximum amount of time\n",
    "tesla_data = tesla.history(period=\"max\")\n",
    "\n",
    "# Display information about the extracted data\n",
    "print(\"Tesla Stock Data extracted successfully!\")\n",
    "print(f\"Data shape: {tesla_data.shape}\")\n",
    "print(f\"Date range: {tesla_data.index.min()} to {tesla_data.index.max()}\")\n",
    "print(f\"Columns: {list(tesla_data.columns)}\")\n",
    "\n",
    "# Show the first few rows\n",
    "print(\"\\nFirst 5 rows of Tesla stock data:\")\n",
    "print(tesla_data.head())"
   ]
  },
  {
   "cell_type": "markdown",
   "id": "50989957-b91e-4651-91bb-0e59439b6e9a",
   "metadata": {},
   "source": [
    "**Reset the index** using the `reset_index(inplace=True)` function on the tesla_data DataFrame and display the first five rows of the `tesla_data` dataframe using the `head` function. Take a screenshot of the results and code from the beginning of Question 1 to the results below.\n"
   ]
  },
  {
   "cell_type": "code",
   "execution_count": 4,
   "id": "1c028fd7-51f8-4444-bfa6-86c17afa5ae8",
   "metadata": {},
   "outputs": [
    {
     "name": "stdout",
     "output_type": "stream",
     "text": [
      "=== QUESTION 1: TESLA STOCK DATA ===\n",
      "DataFrame Shape: (3833, 8)\n",
      "Columns: ['Date', 'Open', 'High', 'Low', 'Close', 'Volume', 'Dividends', 'Stock Splits']\n",
      "\n",
      "First 5 rows of Tesla Stock Data:\n",
      "================================================================================\n"
     ]
    },
    {
     "data": {
      "application/vnd.microsoft.datawrangler.viewer.v0+json": {
       "columns": [
        {
         "name": "index",
         "rawType": "int64",
         "type": "integer"
        },
        {
         "name": "Date",
         "rawType": "datetime64[ns, America/New_York]",
         "type": "unknown"
        },
        {
         "name": "Open",
         "rawType": "float64",
         "type": "float"
        },
        {
         "name": "High",
         "rawType": "float64",
         "type": "float"
        },
        {
         "name": "Low",
         "rawType": "float64",
         "type": "float"
        },
        {
         "name": "Close",
         "rawType": "float64",
         "type": "float"
        },
        {
         "name": "Volume",
         "rawType": "int64",
         "type": "integer"
        },
        {
         "name": "Dividends",
         "rawType": "float64",
         "type": "float"
        },
        {
         "name": "Stock Splits",
         "rawType": "float64",
         "type": "float"
        }
       ],
       "ref": "ef5dce57-5928-40bf-820c-77cc1adddc9a",
       "rows": [
        [
         "0",
         "2010-06-29 00:00:00-04:00",
         "1.2666670083999634",
         "1.6666669845581055",
         "1.1693329811096191",
         "1.5926669836044312",
         "281494500",
         "0.0",
         "0.0"
        ],
        [
         "1",
         "2010-06-30 00:00:00-04:00",
         "1.7193330526351929",
         "2.0280001163482666",
         "1.553333044052124",
         "1.5886670351028442",
         "257806500",
         "0.0",
         "0.0"
        ],
        [
         "2",
         "2010-07-01 00:00:00-04:00",
         "1.6666669845581055",
         "1.7280000448226929",
         "1.3513330221176147",
         "1.4639999866485596",
         "123282000",
         "0.0",
         "0.0"
        ],
        [
         "3",
         "2010-07-02 00:00:00-04:00",
         "1.5333329439163208",
         "1.5399999618530273",
         "1.24733304977417",
         "1.2799999713897705",
         "77097000",
         "0.0",
         "0.0"
        ],
        [
         "4",
         "2010-07-06 00:00:00-04:00",
         "1.3333330154418945",
         "1.3333330154418945",
         "1.0553330183029175",
         "1.0740000009536743",
         "103003500",
         "0.0",
         "0.0"
        ]
       ],
       "shape": {
        "columns": 8,
        "rows": 5
       }
      },
      "text/html": [
       "<div>\n",
       "<style scoped>\n",
       "    .dataframe tbody tr th:only-of-type {\n",
       "        vertical-align: middle;\n",
       "    }\n",
       "\n",
       "    .dataframe tbody tr th {\n",
       "        vertical-align: top;\n",
       "    }\n",
       "\n",
       "    .dataframe thead th {\n",
       "        text-align: right;\n",
       "    }\n",
       "</style>\n",
       "<table border=\"1\" class=\"dataframe\">\n",
       "  <thead>\n",
       "    <tr style=\"text-align: right;\">\n",
       "      <th></th>\n",
       "      <th>Date</th>\n",
       "      <th>Open</th>\n",
       "      <th>High</th>\n",
       "      <th>Low</th>\n",
       "      <th>Close</th>\n",
       "      <th>Volume</th>\n",
       "      <th>Dividends</th>\n",
       "      <th>Stock Splits</th>\n",
       "    </tr>\n",
       "  </thead>\n",
       "  <tbody>\n",
       "    <tr>\n",
       "      <th>0</th>\n",
       "      <td>2010-06-29 00:00:00-04:00</td>\n",
       "      <td>1.266667</td>\n",
       "      <td>1.666667</td>\n",
       "      <td>1.169333</td>\n",
       "      <td>1.592667</td>\n",
       "      <td>281494500</td>\n",
       "      <td>0.0</td>\n",
       "      <td>0.0</td>\n",
       "    </tr>\n",
       "    <tr>\n",
       "      <th>1</th>\n",
       "      <td>2010-06-30 00:00:00-04:00</td>\n",
       "      <td>1.719333</td>\n",
       "      <td>2.028000</td>\n",
       "      <td>1.553333</td>\n",
       "      <td>1.588667</td>\n",
       "      <td>257806500</td>\n",
       "      <td>0.0</td>\n",
       "      <td>0.0</td>\n",
       "    </tr>\n",
       "    <tr>\n",
       "      <th>2</th>\n",
       "      <td>2010-07-01 00:00:00-04:00</td>\n",
       "      <td>1.666667</td>\n",
       "      <td>1.728000</td>\n",
       "      <td>1.351333</td>\n",
       "      <td>1.464000</td>\n",
       "      <td>123282000</td>\n",
       "      <td>0.0</td>\n",
       "      <td>0.0</td>\n",
       "    </tr>\n",
       "    <tr>\n",
       "      <th>3</th>\n",
       "      <td>2010-07-02 00:00:00-04:00</td>\n",
       "      <td>1.533333</td>\n",
       "      <td>1.540000</td>\n",
       "      <td>1.247333</td>\n",
       "      <td>1.280000</td>\n",
       "      <td>77097000</td>\n",
       "      <td>0.0</td>\n",
       "      <td>0.0</td>\n",
       "    </tr>\n",
       "    <tr>\n",
       "      <th>4</th>\n",
       "      <td>2010-07-06 00:00:00-04:00</td>\n",
       "      <td>1.333333</td>\n",
       "      <td>1.333333</td>\n",
       "      <td>1.055333</td>\n",
       "      <td>1.074000</td>\n",
       "      <td>103003500</td>\n",
       "      <td>0.0</td>\n",
       "      <td>0.0</td>\n",
       "    </tr>\n",
       "  </tbody>\n",
       "</table>\n",
       "</div>"
      ],
      "text/plain": [
       "                       Date      Open      High       Low     Close  \\\n",
       "0 2010-06-29 00:00:00-04:00  1.266667  1.666667  1.169333  1.592667   \n",
       "1 2010-06-30 00:00:00-04:00  1.719333  2.028000  1.553333  1.588667   \n",
       "2 2010-07-01 00:00:00-04:00  1.666667  1.728000  1.351333  1.464000   \n",
       "3 2010-07-02 00:00:00-04:00  1.533333  1.540000  1.247333  1.280000   \n",
       "4 2010-07-06 00:00:00-04:00  1.333333  1.333333  1.055333  1.074000   \n",
       "\n",
       "      Volume  Dividends  Stock Splits  \n",
       "0  281494500        0.0           0.0  \n",
       "1  257806500        0.0           0.0  \n",
       "2  123282000        0.0           0.0  \n",
       "3   77097000        0.0           0.0  \n",
       "4  103003500        0.0           0.0  "
      ]
     },
     "metadata": {},
     "output_type": "display_data"
    },
    {
     "name": "stdout",
     "output_type": "stream",
     "text": [
      "\n",
      "Alternative display (first 5 rows):\n",
      "                     Date     Open     High      Low    Close    Volume  Dividends  Stock Splits\n",
      "2010-06-29 00:00:00-04:00 1.266667 1.666667 1.169333 1.592667 281494500        0.0           0.0\n",
      "2010-06-30 00:00:00-04:00 1.719333 2.028000 1.553333 1.588667 257806500        0.0           0.0\n",
      "2010-07-01 00:00:00-04:00 1.666667 1.728000 1.351333 1.464000 123282000        0.0           0.0\n",
      "2010-07-02 00:00:00-04:00 1.533333 1.540000 1.247333 1.280000  77097000        0.0           0.0\n",
      "2010-07-06 00:00:00-04:00 1.333333 1.333333 1.055333 1.074000 103003500        0.0           0.0\n",
      "================================================================================\n"
     ]
    }
   ],
   "source": [
    "# =============================================================================\n",
    "# QUESTION 1: COMPLETE CODE WITH RESET INDEX AND HEAD DISPLAY\n",
    "# =============================================================================\n",
    "\n",
    "# Step 1: Create ticker object for Tesla\n",
    "tesla = yf.Ticker(\"TSLA\")\n",
    "\n",
    "# Step 2: Extract stock data with maximum period\n",
    "tesla_data = tesla.history(period=\"max\")\n",
    "\n",
    "# Step 3: Reset the index using reset_index(inplace=True)\n",
    "tesla_data.reset_index(inplace=True)\n",
    "\n",
    "# Step 4: Display the first five rows\n",
    "print(\"=== QUESTION 1: TESLA STOCK DATA ===\")\n",
    "print(f\"DataFrame Shape: {tesla_data.shape}\")\n",
    "print(f\"Columns: {list(tesla_data.columns)}\")\n",
    "print(\"\\nFirst 5 rows of Tesla Stock Data:\")\n",
    "print(\"=\" * 80)\n",
    "\n",
    "# Display first 5 rows with nice formatting\n",
    "display(tesla_data.head())\n",
    "\n",
    "# Alternative display without using display() function\n",
    "print(\"\\nAlternative display (first 5 rows):\")\n",
    "print(tesla_data.head().to_string(index=False))\n",
    "\n",
    "print(\"=\" * 80)"
   ]
  },
  {
   "cell_type": "markdown",
   "id": "841964ed-9a53-44db-bd2b-7ad61572d12b",
   "metadata": {},
   "source": [
    "## Question 2: Use Webscraping to Extract Tesla Revenue Data\n"
   ]
  },
  {
   "cell_type": "markdown",
   "id": "44e38a9e-47ff-4d07-b2b5-c51a483eeb50",
   "metadata": {},
   "source": [
    "Use the `requests` library to download the webpage https://cf-courses-data.s3.us.cloud-object-storage.appdomain.cloud/IBMDeveloperSkillsNetwork-PY0220EN-SkillsNetwork/labs/project/revenue.htm Save the text of the response as a variable named `html_data`.\n"
   ]
  },
  {
   "cell_type": "code",
   "execution_count": 9,
   "metadata": {},
   "outputs": [
    {
     "name": "stdout",
     "output_type": "stream",
     "text": [
      "    Date  Revenue\n",
      "8   2013   2013.0\n",
      "9   2012    413.0\n",
      "10  2011    204.0\n",
      "11  2010    117.0\n",
      "12  2009    112.0\n"
     ]
    }
   ],
   "source": [
    "# Use the requests library to download the webpage\n",
    "import requests\n",
    "from bs4 import BeautifulSoup\n",
    "import pandas as pd\n",
    "\n",
    "url = \"https://cf-courses-data.s3.us.cloud-object-storage.appdomain.cloud/IBMDeveloperSkillsNetwork-PY0220EN-SkillsNetwork/labs/project/revenue.htm\"\n",
    "html_data = requests.get(url).text\n",
    "\n",
    "# Parse HTML\n",
    "soup = BeautifulSoup(html_data, \"html.parser\")\n",
    "\n",
    "# Find the Tesla Revenue table\n",
    "tesla_revenue = pd.DataFrame(columns=[\"Date\", \"Revenue\"])\n",
    "\n",
    "for row in soup.find(\"table\").find(\"tbody\").find_all(\"tr\"):\n",
    "    cols = row.find_all(\"td\")\n",
    "    if len(cols) == 2:\n",
    "        date = cols[0].text.strip()\n",
    "        revenue = cols[1].text.strip().replace(\"$\", \"\").replace(\",\", \"\")\n",
    "        tesla_revenue = pd.concat([tesla_revenue, pd.DataFrame({\"Date\": [date], \"Revenue\": [revenue]})], ignore_index=True)\n",
    "\n",
    "# Clean Revenue column\n",
    "tesla_revenue = tesla_revenue[tesla_revenue[\"Revenue\"] != \"\"]\n",
    "tesla_revenue[\"Revenue\"] = tesla_revenue[\"Revenue\"].astype(float)\n",
    "\n",
    "# Show last 5 rows\n",
    "print(tesla_revenue.tail())\n"
   ]
  },
  {
   "cell_type": "markdown",
   "id": "a90a826f-512a-4e45-8c10-7420567721e2",
   "metadata": {},
   "source": [
    "Parse the html data using `beautiful_soup` using parser i.e `html5lib` or `html.parser`.\n"
   ]
  },
  {
   "cell_type": "code",
   "execution_count": 10,
   "id": "c112e431-243d-4821-975a-0eee3d3928f1",
   "metadata": {},
   "outputs": [
    {
     "name": "stdout",
     "output_type": "stream",
     "text": [
      "   Date  Revenue\n",
      "0  2021  53823.0\n",
      "1  2020  31536.0\n",
      "2  2019  24578.0\n",
      "3  2018  21461.0\n",
      "4  2017  11759.0\n"
     ]
    }
   ],
   "source": [
    "from bs4 import BeautifulSoup\n",
    "import requests\n",
    "import pandas as pd\n",
    "\n",
    "# Download the webpage\n",
    "url = \"https://cf-courses-data.s3.us.cloud-object-storage.appdomain.cloud/IBMDeveloperSkillsNetwork-PY0220EN-SkillsNetwork/labs/project/revenue.htm\"\n",
    "html_data = requests.get(url).text\n",
    "\n",
    "# Parse HTML using html.parser (or html5lib)\n",
    "soup = BeautifulSoup(html_data, \"html.parser\")  # or use \"html5lib\"\n",
    "\n",
    "# Extract Tesla Revenue table\n",
    "tesla_revenue = pd.DataFrame(columns=[\"Date\", \"Revenue\"])\n",
    "\n",
    "for row in soup.find(\"table\").find(\"tbody\").find_all(\"tr\"):\n",
    "    cols = row.find_all(\"td\")\n",
    "    if len(cols) == 2:\n",
    "        date = cols[0].text.strip()\n",
    "        revenue = cols[1].text.strip().replace(\"$\", \"\").replace(\",\", \"\")\n",
    "        tesla_revenue = pd.concat(\n",
    "            [tesla_revenue, pd.DataFrame({\"Date\": [date], \"Revenue\": [revenue]})],\n",
    "            ignore_index=True\n",
    "        )\n",
    "\n",
    "# Clean Revenue column\n",
    "tesla_revenue = tesla_revenue[tesla_revenue[\"Revenue\"] != \"\"]\n",
    "tesla_revenue[\"Revenue\"] = tesla_revenue[\"Revenue\"].astype(float)\n",
    "\n",
    "# Show sample\n",
    "print(tesla_revenue.head())\n"
   ]
  },
  {
   "cell_type": "markdown",
   "id": "c8a2795f-20fd-42a5-8886-d0b505bcf79f",
   "metadata": {},
   "source": [
    "Using `BeautifulSoup` or the `read_html` function extract the table with `Tesla Revenue` and store it into a dataframe named `tesla_revenue`. The dataframe should have columns `Date` and `Revenue`.\n"
   ]
  },
  {
   "cell_type": "code",
   "execution_count": 12,
   "metadata": {},
   "outputs": [
    {
     "name": "stdout",
     "output_type": "stream",
     "text": [
      "Rows found: 13\n"
     ]
    },
    {
     "data": {
      "application/vnd.microsoft.datawrangler.viewer.v0+json": {
       "columns": [
        {
         "name": "index",
         "rawType": "int64",
         "type": "integer"
        },
        {
         "name": "Date",
         "rawType": "datetime64[ns]",
         "type": "datetime"
        },
        {
         "name": "Revenue",
         "rawType": "float64",
         "type": "float"
        }
       ],
       "ref": "368eb27a-6ef4-466c-82ec-7d9e1f2f60f9",
       "rows": [
        [
         "3",
         "2012-01-01 00:00:00",
         "413.0"
        ],
        [
         "4",
         "2013-01-01 00:00:00",
         "2013.0"
        ],
        [
         "5",
         "2014-01-01 00:00:00",
         "3198.0"
        ],
        [
         "6",
         "2015-01-01 00:00:00",
         "4046.0"
        ],
        [
         "7",
         "2016-01-01 00:00:00",
         "7000.0"
        ],
        [
         "8",
         "2017-01-01 00:00:00",
         "11759.0"
        ],
        [
         "9",
         "2018-01-01 00:00:00",
         "21461.0"
        ],
        [
         "10",
         "2019-01-01 00:00:00",
         "24578.0"
        ],
        [
         "11",
         "2020-01-01 00:00:00",
         "31536.0"
        ],
        [
         "12",
         "2021-01-01 00:00:00",
         "53823.0"
        ]
       ],
       "shape": {
        "columns": 2,
        "rows": 10
       }
      },
      "text/html": [
       "<div>\n",
       "<style scoped>\n",
       "    .dataframe tbody tr th:only-of-type {\n",
       "        vertical-align: middle;\n",
       "    }\n",
       "\n",
       "    .dataframe tbody tr th {\n",
       "        vertical-align: top;\n",
       "    }\n",
       "\n",
       "    .dataframe thead th {\n",
       "        text-align: right;\n",
       "    }\n",
       "</style>\n",
       "<table border=\"1\" class=\"dataframe\">\n",
       "  <thead>\n",
       "    <tr style=\"text-align: right;\">\n",
       "      <th></th>\n",
       "      <th>Date</th>\n",
       "      <th>Revenue</th>\n",
       "    </tr>\n",
       "  </thead>\n",
       "  <tbody>\n",
       "    <tr>\n",
       "      <th>3</th>\n",
       "      <td>2012-01-01</td>\n",
       "      <td>413.0</td>\n",
       "    </tr>\n",
       "    <tr>\n",
       "      <th>4</th>\n",
       "      <td>2013-01-01</td>\n",
       "      <td>2013.0</td>\n",
       "    </tr>\n",
       "    <tr>\n",
       "      <th>5</th>\n",
       "      <td>2014-01-01</td>\n",
       "      <td>3198.0</td>\n",
       "    </tr>\n",
       "    <tr>\n",
       "      <th>6</th>\n",
       "      <td>2015-01-01</td>\n",
       "      <td>4046.0</td>\n",
       "    </tr>\n",
       "    <tr>\n",
       "      <th>7</th>\n",
       "      <td>2016-01-01</td>\n",
       "      <td>7000.0</td>\n",
       "    </tr>\n",
       "    <tr>\n",
       "      <th>8</th>\n",
       "      <td>2017-01-01</td>\n",
       "      <td>11759.0</td>\n",
       "    </tr>\n",
       "    <tr>\n",
       "      <th>9</th>\n",
       "      <td>2018-01-01</td>\n",
       "      <td>21461.0</td>\n",
       "    </tr>\n",
       "    <tr>\n",
       "      <th>10</th>\n",
       "      <td>2019-01-01</td>\n",
       "      <td>24578.0</td>\n",
       "    </tr>\n",
       "    <tr>\n",
       "      <th>11</th>\n",
       "      <td>2020-01-01</td>\n",
       "      <td>31536.0</td>\n",
       "    </tr>\n",
       "    <tr>\n",
       "      <th>12</th>\n",
       "      <td>2021-01-01</td>\n",
       "      <td>53823.0</td>\n",
       "    </tr>\n",
       "  </tbody>\n",
       "</table>\n",
       "</div>"
      ],
      "text/plain": [
       "         Date  Revenue\n",
       "3  2012-01-01    413.0\n",
       "4  2013-01-01   2013.0\n",
       "5  2014-01-01   3198.0\n",
       "6  2015-01-01   4046.0\n",
       "7  2016-01-01   7000.0\n",
       "8  2017-01-01  11759.0\n",
       "9  2018-01-01  21461.0\n",
       "10 2019-01-01  24578.0\n",
       "11 2020-01-01  31536.0\n",
       "12 2021-01-01  53823.0"
      ]
     },
     "metadata": {},
     "output_type": "display_data"
    }
   ],
   "source": [
    "# Requires: requests, beautifulsoup4, (optional: html5lib), pandas\n",
    "import requests\n",
    "from bs4 import BeautifulSoup\n",
    "import pandas as pd\n",
    "import re\n",
    "\n",
    "def fetch_quarterly_revenue(url, parser='html.parser', company_keyword='tesla'):\n",
    "    \"\"\"\n",
    "    Fetch a Date/Revenue DataFrame from a webpage containing one or more tables.\n",
    "    - url: page to download\n",
    "    - parser: 'html.parser' or 'html5lib'\n",
    "    - company_keyword: used to help find the correct table (e.g. 'tesla')\n",
    "    Returns: pandas.DataFrame with columns ['Date','Revenue'] (Revenue as float)\n",
    "    \"\"\"\n",
    "\n",
    "    # Step 1: Create an empty container for rows\n",
    "    rows = []\n",
    "\n",
    "    # Step 2: Download the page\n",
    "    resp = requests.get(url)\n",
    "    resp.raise_for_status()\n",
    "    html_data = resp.text\n",
    "\n",
    "    # Step 3: Parse HTML with the chosen parser\n",
    "    soup = BeautifulSoup(html_data, parser)\n",
    "\n",
    "    # Step 4: Find candidate tables and try to identify the Tesla Quarterly Revenue table\n",
    "    tables = soup.find_all('table')\n",
    "    target_table = None\n",
    "\n",
    "    # Heuristic 1: look for nearby text (headings/caption) + headers containing 'revenue' and company name\n",
    "    for table in tables:\n",
    "        header_text = ' '.join([th.get_text(\" \", strip=True).lower() for th in table.find_all('th')])\n",
    "        prev_text = ''\n",
    "        prev = table.find_previous(lambda t: t.name in ('h1','h2','h3','h4','p','caption','div') and t.get_text(strip=True))\n",
    "        if prev:\n",
    "            prev_text = prev.get_text(\" \", strip=True).lower()\n",
    "        combined = (header_text + ' ' + prev_text)\n",
    "        if 'revenue' in combined and company_keyword.lower() in combined:\n",
    "            target_table = table\n",
    "            break\n",
    "\n",
    "    # Heuristic 2 (fallback): pick a table whose headers include 'date' and 'revenue' (common layout)\n",
    "    if target_table is None:\n",
    "        for table in tables:\n",
    "            ths = [th.get_text(strip=True).lower() for th in table.find_all('th')]\n",
    "            if len(ths) >= 2 and ('date' in ' '.join(ths) or 'revenue' in ' '.join(ths)):\n",
    "                target_table = table\n",
    "                break\n",
    "\n",
    "    # Final fallback: first table on the page\n",
    "    if target_table is None and tables:\n",
    "        target_table = tables[0]\n",
    "\n",
    "    if target_table is None:\n",
    "        # no table found\n",
    "        return pd.DataFrame(columns=['Date','Revenue'])\n",
    "\n",
    "    # Step 5 & 6: iterate rows, extract & clean data, append to rows list\n",
    "    for tr in target_table.find_all('tr'):\n",
    "        tds = tr.find_all('td')\n",
    "        if len(tds) >= 2:\n",
    "            date_text = tds[0].get_text(strip=True)\n",
    "            revenue_text = tds[1].get_text(\" \", strip=True)\n",
    "\n",
    "            # Clean revenue: remove $ and commas and em-dash etc.\n",
    "            revenue_clean = re.sub(r'[\\$,]', '', revenue_text).replace('—','').replace('-','').strip()\n",
    "            if revenue_clean == '':\n",
    "                continue\n",
    "\n",
    "            # extract numeric part (handles things like \"13,757\" or \"13,757.0\")\n",
    "            m = re.search(r'[-+]?[0-9]*[,]?[0-9]+(?:\\.[0-9]+)?', revenue_clean)\n",
    "            if not m:\n",
    "                continue\n",
    "            num = m.group(0).replace(',','')\n",
    "            try:\n",
    "                num = float(num)\n",
    "            except:\n",
    "                continue\n",
    "\n",
    "            rows.append((date_text, num))\n",
    "\n",
    "    # Build DataFrame\n",
    "    df = pd.DataFrame(rows, columns=['Date', 'Revenue'])\n",
    "    if not df.empty:\n",
    "        # try parse Date to datetime where possible\n",
    "        try:\n",
    "            df['Date'] = pd.to_datetime(df['Date'])\n",
    "        except:\n",
    "            # keep as string if parsing fails\n",
    "            pass\n",
    "        df = df.sort_values('Date').reset_index(drop=True)\n",
    "\n",
    "    return df\n",
    "\n",
    "# Example usage:\n",
    "url = \"https://cf-courses-data.s3.us.cloud-object-storage.appdomain.cloud/IBMDeveloperSkillsNetwork-PY0220EN-SkillsNetwork/labs/project/revenue.htm\"\n",
    "\n",
    "# Use 'html.parser' (built-in) or 'html5lib' (pip install html5lib)\n",
    "tesla_revenue = fetch_quarterly_revenue(url, parser='html.parser', company_keyword='tesla')\n",
    "print(\"Rows found:\", len(tesla_revenue))\n",
    "display(tesla_revenue.tail(10))\n"
   ]
  },
  {
   "cell_type": "markdown",
   "id": "da27671a-b7e8-4cd5-a821-fc61bcfc86ff",
   "metadata": {},
   "source": [
    "<details><summary>Step-by-step instructions</summary>\n",
    "\n",
    "```\n",
    "\n",
    "Here are the step-by-step instructions:\n",
    "\n",
    "1. Create an Empty DataFrame\n",
    "2. Find the Relevant Table\n",
    "3. Check for the Tesla Quarterly Revenue Table\n",
    "4. Iterate Through Rows in the Table Body\n",
    "5. Extract Data from Columns\n",
    "6. Append Data to the DataFrame\n",
    "\n",
    "```\n",
    "</details>\n"
   ]
  },
  {
   "cell_type": "markdown",
   "id": "64e73c44-ef98-41fe-a1a7-baf877a2e007",
   "metadata": {},
   "source": [
    "<details><summary>Click here if you need help locating the table</summary>\n",
    "\n",
    "```\n",
    "    \n",
    "Below is the code to isolate the table, you will now need to loop through the rows and columns like in the previous lab\n",
    "    \n",
    "soup.find_all(\"tbody\")[1]\n",
    "    \n",
    "If you want to use the read_html function the table is located at index 1\n",
    "\n",
    "We are focusing on quarterly revenue in the lab.\n",
    "```\n",
    "\n",
    "</details>\n"
   ]
  },
  {
   "cell_type": "markdown",
   "id": "4d60e2fb-ae57-4e7d-bbbb-764ff36f8a99",
   "metadata": {},
   "source": [
    "Execute the following line to remove the comma and dollar sign from the `Revenue` column. \n"
   ]
  },
  {
   "cell_type": "code",
   "execution_count": 16,
   "id": "2db8bd02-107b-42ed-8cb5-9f13accc6bea",
   "metadata": {},
   "outputs": [
    {
     "name": "stdout",
     "output_type": "stream",
     "text": [
      "        Date  Revenue\n",
      "0 2009-01-01    112.0\n",
      "1 2010-01-01    117.0\n",
      "2 2011-01-01    204.0\n",
      "3 2012-01-01    413.0\n",
      "4 2013-01-01   2013.0\n"
     ]
    },
    {
     "name": "stderr",
     "output_type": "stream",
     "text": [
      "<>:5: SyntaxWarning: invalid escape sequence '\\$'\n",
      "<>:5: SyntaxWarning: invalid escape sequence '\\$'\n",
      "C:\\Users\\DELL\\AppData\\Local\\Temp\\ipykernel_7072\\1605907127.py:5: SyntaxWarning: invalid escape sequence '\\$'\n",
      "  tesla_revenue[\"Revenue\"] = tesla_revenue[\"Revenue\"].str.replace(',|\\$',\"\", regex=True)\n"
     ]
    }
   ],
   "source": [
    "# Ensure Revenue is string before cleaning\n",
    "tesla_revenue[\"Revenue\"] = tesla_revenue[\"Revenue\"].astype(str)\n",
    "\n",
    "# Remove $ and , \n",
    "tesla_revenue[\"Revenue\"] = tesla_revenue[\"Revenue\"].str.replace(',|\\$',\"\", regex=True)\n",
    "\n",
    "# Remove empty or invalid values\n",
    "tesla_revenue = tesla_revenue[tesla_revenue['Revenue'] != \"\"]\n",
    "\n",
    "# Convert to float\n",
    "tesla_revenue[\"Revenue\"] = tesla_revenue[\"Revenue\"].astype(float)\n",
    "\n",
    "# Check result\n",
    "print(tesla_revenue.head())\n"
   ]
  },
  {
   "cell_type": "markdown",
   "id": "9db9e32d-1b2c-4be2-a42f-194a63c3b383",
   "metadata": {},
   "source": [
    "Execute the following lines to remove an null or empty strings in the Revenue column.\n"
   ]
  },
  {
   "cell_type": "code",
   "execution_count": 17,
   "id": "90506da1-645a-4950-95c9-017c2207463b",
   "metadata": {},
   "outputs": [],
   "source": [
    "tesla_revenue.dropna(inplace=True)\n",
    "\n",
    "tesla_revenue = tesla_revenue[tesla_revenue['Revenue'] != \"\"]"
   ]
  },
  {
   "cell_type": "markdown",
   "id": "dfec803d-3fda-47d0-9034-639bdfc84150",
   "metadata": {},
   "source": [
    "Display the last 5 row of the `tesla_revenue` dataframe using the `tail` function. Take a screenshot of the results.\n"
   ]
  },
  {
   "cell_type": "code",
   "execution_count": 18,
   "id": "b35d3f47-71a2-42c8-a147-60987dbcc9be",
   "metadata": {},
   "outputs": [
    {
     "data": {
      "application/vnd.microsoft.datawrangler.viewer.v0+json": {
       "columns": [
        {
         "name": "index",
         "rawType": "int64",
         "type": "integer"
        },
        {
         "name": "Date",
         "rawType": "datetime64[ns]",
         "type": "datetime"
        },
        {
         "name": "Revenue",
         "rawType": "float64",
         "type": "float"
        }
       ],
       "ref": "59645a5a-2800-4d57-99d4-64e2f7ceec71",
       "rows": [
        [
         "8",
         "2017-01-01 00:00:00",
         "11759.0"
        ],
        [
         "9",
         "2018-01-01 00:00:00",
         "21461.0"
        ],
        [
         "10",
         "2019-01-01 00:00:00",
         "24578.0"
        ],
        [
         "11",
         "2020-01-01 00:00:00",
         "31536.0"
        ],
        [
         "12",
         "2021-01-01 00:00:00",
         "53823.0"
        ]
       ],
       "shape": {
        "columns": 2,
        "rows": 5
       }
      },
      "text/html": [
       "<div>\n",
       "<style scoped>\n",
       "    .dataframe tbody tr th:only-of-type {\n",
       "        vertical-align: middle;\n",
       "    }\n",
       "\n",
       "    .dataframe tbody tr th {\n",
       "        vertical-align: top;\n",
       "    }\n",
       "\n",
       "    .dataframe thead th {\n",
       "        text-align: right;\n",
       "    }\n",
       "</style>\n",
       "<table border=\"1\" class=\"dataframe\">\n",
       "  <thead>\n",
       "    <tr style=\"text-align: right;\">\n",
       "      <th></th>\n",
       "      <th>Date</th>\n",
       "      <th>Revenue</th>\n",
       "    </tr>\n",
       "  </thead>\n",
       "  <tbody>\n",
       "    <tr>\n",
       "      <th>8</th>\n",
       "      <td>2017-01-01</td>\n",
       "      <td>11759.0</td>\n",
       "    </tr>\n",
       "    <tr>\n",
       "      <th>9</th>\n",
       "      <td>2018-01-01</td>\n",
       "      <td>21461.0</td>\n",
       "    </tr>\n",
       "    <tr>\n",
       "      <th>10</th>\n",
       "      <td>2019-01-01</td>\n",
       "      <td>24578.0</td>\n",
       "    </tr>\n",
       "    <tr>\n",
       "      <th>11</th>\n",
       "      <td>2020-01-01</td>\n",
       "      <td>31536.0</td>\n",
       "    </tr>\n",
       "    <tr>\n",
       "      <th>12</th>\n",
       "      <td>2021-01-01</td>\n",
       "      <td>53823.0</td>\n",
       "    </tr>\n",
       "  </tbody>\n",
       "</table>\n",
       "</div>"
      ],
      "text/plain": [
       "         Date  Revenue\n",
       "8  2017-01-01  11759.0\n",
       "9  2018-01-01  21461.0\n",
       "10 2019-01-01  24578.0\n",
       "11 2020-01-01  31536.0\n",
       "12 2021-01-01  53823.0"
      ]
     },
     "execution_count": 18,
     "metadata": {},
     "output_type": "execute_result"
    }
   ],
   "source": [
    "# Display last 5 rows of tesla_revenue\n",
    "tesla_revenue.tail()\n"
   ]
  },
  {
   "cell_type": "markdown",
   "id": "6abe0099-0fa7-4925-8d8f-443e8740d4cb",
   "metadata": {},
   "source": [
    "## Question 3: Use yfinance to Extract Stock Data\n"
   ]
  },
  {
   "cell_type": "markdown",
   "id": "0be2586c-c268-498f-b675-c72ab53a49b0",
   "metadata": {},
   "source": [
    "Using the `Ticker` function enter the ticker symbol of the stock we want to extract data on to create a ticker object. The stock is GameStop and its ticker symbol is `GME`.\n"
   ]
  },
  {
   "cell_type": "code",
   "execution_count": 19,
   "id": "9569972e-333e-48c9-83b2-dc39d6a61351",
   "metadata": {},
   "outputs": [
    {
     "name": "stdout",
     "output_type": "stream",
     "text": [
      "                       Date      Open      High       Low     Close    Volume  \\\n",
      "0 2002-02-13 00:00:00-05:00  1.620128  1.693350  1.603296  1.691666  76216000   \n",
      "1 2002-02-14 00:00:00-05:00  1.712707  1.716073  1.670626  1.683250  11021600   \n",
      "2 2002-02-15 00:00:00-05:00  1.683250  1.687458  1.658002  1.674834   8389600   \n",
      "3 2002-02-19 00:00:00-05:00  1.666418  1.666418  1.578047  1.607504   7410400   \n",
      "4 2002-02-20 00:00:00-05:00  1.615920  1.662210  1.603296  1.662210   6892800   \n",
      "\n",
      "   Dividends  Stock Splits  \n",
      "0        0.0           0.0  \n",
      "1        0.0           0.0  \n",
      "2        0.0           0.0  \n",
      "3        0.0           0.0  \n",
      "4        0.0           0.0  \n"
     ]
    }
   ],
   "source": [
    "import yfinance as yf\n",
    "\n",
    "# Create a ticker object for GameStop\n",
    "gme = yf.Ticker(\"GME\")\n",
    "\n",
    "# Extract historical stock data\n",
    "gme_data = gme.history(period=\"max\")\n",
    "\n",
    "# Reset index to get Date as a column\n",
    "gme_data.reset_index(inplace=True)\n",
    "\n",
    "# Display first 5 rows\n",
    "print(gme_data.head())\n"
   ]
  },
  {
   "cell_type": "code",
   "execution_count": null,
   "metadata": {},
   "outputs": [],
   "source": []
  },
  {
   "cell_type": "markdown",
   "id": "30024826-f960-499d-b4b1-028f35cbedb5",
   "metadata": {},
   "source": [
    "Using the ticker object and the function `history` extract stock information and save it in a dataframe named `gme_data`. Set the `period` parameter to ` \"max\" ` so we get information for the maximum amount of time.\n"
   ]
  },
  {
   "cell_type": "code",
   "execution_count": 20,
   "id": "4f8d709e-59ab-4ced-8cd2-b416e4a733a1",
   "metadata": {},
   "outputs": [
    {
     "data": {
      "application/vnd.microsoft.datawrangler.viewer.v0+json": {
       "columns": [
        {
         "name": "index",
         "rawType": "int64",
         "type": "integer"
        },
        {
         "name": "Date",
         "rawType": "datetime64[ns, America/New_York]",
         "type": "unknown"
        },
        {
         "name": "Open",
         "rawType": "float64",
         "type": "float"
        },
        {
         "name": "High",
         "rawType": "float64",
         "type": "float"
        },
        {
         "name": "Low",
         "rawType": "float64",
         "type": "float"
        },
        {
         "name": "Close",
         "rawType": "float64",
         "type": "float"
        },
        {
         "name": "Volume",
         "rawType": "int64",
         "type": "integer"
        },
        {
         "name": "Dividends",
         "rawType": "float64",
         "type": "float"
        },
        {
         "name": "Stock Splits",
         "rawType": "float64",
         "type": "float"
        }
       ],
       "ref": "290896c6-d412-408b-8138-251300a23eb7",
       "rows": [
        [
         "0",
         "2002-02-13 00:00:00-05:00",
         "1.620128660745219",
         "1.6933501305901242",
         "1.603296090968122",
         "1.691666841506958",
         "76216000",
         "0.0",
         "0.0"
        ],
        [
         "1",
         "2002-02-14 00:00:00-05:00",
         "1.7127069779419912",
         "1.716073394607065",
         "1.6706257262015356",
         "1.683250069618225",
         "11021600",
         "0.0",
         "0.0"
        ],
        [
         "2",
         "2002-02-15 00:00:00-05:00",
         "1.6832504163818824",
         "1.6874584782119295",
         "1.6580017243470617",
         "1.674834132194519",
         "8389600",
         "0.0",
         "0.0"
        ],
        [
         "3",
         "2002-02-19 00:00:00-05:00",
         "1.6664176722436537",
         "1.6664176722436537",
         "1.5780470989152977",
         "1.6075040102005005",
         "7410400",
         "0.0",
         "0.0"
        ],
        [
         "4",
         "2002-02-20 00:00:00-05:00",
         "1.615920543900883",
         "1.6622098684310913",
         "1.6032960367314837",
         "1.6622098684310913",
         "6892800",
         "0.0",
         "0.0"
        ]
       ],
       "shape": {
        "columns": 8,
        "rows": 5
       }
      },
      "text/html": [
       "<div>\n",
       "<style scoped>\n",
       "    .dataframe tbody tr th:only-of-type {\n",
       "        vertical-align: middle;\n",
       "    }\n",
       "\n",
       "    .dataframe tbody tr th {\n",
       "        vertical-align: top;\n",
       "    }\n",
       "\n",
       "    .dataframe thead th {\n",
       "        text-align: right;\n",
       "    }\n",
       "</style>\n",
       "<table border=\"1\" class=\"dataframe\">\n",
       "  <thead>\n",
       "    <tr style=\"text-align: right;\">\n",
       "      <th></th>\n",
       "      <th>Date</th>\n",
       "      <th>Open</th>\n",
       "      <th>High</th>\n",
       "      <th>Low</th>\n",
       "      <th>Close</th>\n",
       "      <th>Volume</th>\n",
       "      <th>Dividends</th>\n",
       "      <th>Stock Splits</th>\n",
       "    </tr>\n",
       "  </thead>\n",
       "  <tbody>\n",
       "    <tr>\n",
       "      <th>0</th>\n",
       "      <td>2002-02-13 00:00:00-05:00</td>\n",
       "      <td>1.620129</td>\n",
       "      <td>1.693350</td>\n",
       "      <td>1.603296</td>\n",
       "      <td>1.691667</td>\n",
       "      <td>76216000</td>\n",
       "      <td>0.0</td>\n",
       "      <td>0.0</td>\n",
       "    </tr>\n",
       "    <tr>\n",
       "      <th>1</th>\n",
       "      <td>2002-02-14 00:00:00-05:00</td>\n",
       "      <td>1.712707</td>\n",
       "      <td>1.716073</td>\n",
       "      <td>1.670626</td>\n",
       "      <td>1.683250</td>\n",
       "      <td>11021600</td>\n",
       "      <td>0.0</td>\n",
       "      <td>0.0</td>\n",
       "    </tr>\n",
       "    <tr>\n",
       "      <th>2</th>\n",
       "      <td>2002-02-15 00:00:00-05:00</td>\n",
       "      <td>1.683250</td>\n",
       "      <td>1.687458</td>\n",
       "      <td>1.658002</td>\n",
       "      <td>1.674834</td>\n",
       "      <td>8389600</td>\n",
       "      <td>0.0</td>\n",
       "      <td>0.0</td>\n",
       "    </tr>\n",
       "    <tr>\n",
       "      <th>3</th>\n",
       "      <td>2002-02-19 00:00:00-05:00</td>\n",
       "      <td>1.666418</td>\n",
       "      <td>1.666418</td>\n",
       "      <td>1.578047</td>\n",
       "      <td>1.607504</td>\n",
       "      <td>7410400</td>\n",
       "      <td>0.0</td>\n",
       "      <td>0.0</td>\n",
       "    </tr>\n",
       "    <tr>\n",
       "      <th>4</th>\n",
       "      <td>2002-02-20 00:00:00-05:00</td>\n",
       "      <td>1.615921</td>\n",
       "      <td>1.662210</td>\n",
       "      <td>1.603296</td>\n",
       "      <td>1.662210</td>\n",
       "      <td>6892800</td>\n",
       "      <td>0.0</td>\n",
       "      <td>0.0</td>\n",
       "    </tr>\n",
       "  </tbody>\n",
       "</table>\n",
       "</div>"
      ],
      "text/plain": [
       "                       Date      Open      High       Low     Close    Volume  \\\n",
       "0 2002-02-13 00:00:00-05:00  1.620129  1.693350  1.603296  1.691667  76216000   \n",
       "1 2002-02-14 00:00:00-05:00  1.712707  1.716073  1.670626  1.683250  11021600   \n",
       "2 2002-02-15 00:00:00-05:00  1.683250  1.687458  1.658002  1.674834   8389600   \n",
       "3 2002-02-19 00:00:00-05:00  1.666418  1.666418  1.578047  1.607504   7410400   \n",
       "4 2002-02-20 00:00:00-05:00  1.615921  1.662210  1.603296  1.662210   6892800   \n",
       "\n",
       "   Dividends  Stock Splits  \n",
       "0        0.0           0.0  \n",
       "1        0.0           0.0  \n",
       "2        0.0           0.0  \n",
       "3        0.0           0.0  \n",
       "4        0.0           0.0  "
      ]
     },
     "execution_count": 20,
     "metadata": {},
     "output_type": "execute_result"
    }
   ],
   "source": [
    "import yfinance as yf\n",
    "\n",
    "# Create the ticker object for GameStop\n",
    "gme = yf.Ticker(\"GME\")\n",
    "\n",
    "# Extract historical data with maximum available period\n",
    "gme_data = gme.history(period=\"max\")\n",
    "\n",
    "# Reset index so Date becomes a column instead of index\n",
    "gme_data.reset_index(inplace=True)\n",
    "\n",
    "# Display first 5 rows\n",
    "gme_data.head()\n"
   ]
  },
  {
   "cell_type": "markdown",
   "id": "47fd7a49-0bcd-48c6-b8d9-b001c0eee176",
   "metadata": {},
   "source": [
    "**Reset the index** using the `reset_index(inplace=True)` function on the gme_data DataFrame and display the first five rows of the `gme_data` dataframe using the `head` function. Take a screenshot of the results and code from the beginning of Question 3 to the results below.\n"
   ]
  },
  {
   "cell_type": "code",
   "execution_count": 21,
   "id": "755bf020-bd34-473c-831b-af8b73305856",
   "metadata": {},
   "outputs": [
    {
     "name": "stdout",
     "output_type": "stream",
     "text": [
      "                       Date      Open      High       Low     Close    Volume  \\\n",
      "0 2002-02-13 00:00:00-05:00  1.620129  1.693350  1.603296  1.691667  76216000   \n",
      "1 2002-02-14 00:00:00-05:00  1.712707  1.716073  1.670626  1.683250  11021600   \n",
      "2 2002-02-15 00:00:00-05:00  1.683250  1.687458  1.658002  1.674834   8389600   \n",
      "3 2002-02-19 00:00:00-05:00  1.666418  1.666418  1.578047  1.607504   7410400   \n",
      "4 2002-02-20 00:00:00-05:00  1.615920  1.662210  1.603296  1.662210   6892800   \n",
      "\n",
      "   Dividends  Stock Splits  \n",
      "0        0.0           0.0  \n",
      "1        0.0           0.0  \n",
      "2        0.0           0.0  \n",
      "3        0.0           0.0  \n",
      "4        0.0           0.0  \n"
     ]
    }
   ],
   "source": [
    "import yfinance as yf\n",
    "\n",
    "# Create a ticker object for GameStop\n",
    "gme = yf.Ticker(\"GME\")\n",
    "\n",
    "# Extract maximum available stock data\n",
    "gme_data = gme.history(period=\"max\")\n",
    "\n",
    "# Reset index\n",
    "gme_data.reset_index(inplace=True)\n",
    "\n",
    "# Display first 5 rows\n",
    "print(gme_data.head())\n"
   ]
  },
  {
   "cell_type": "markdown",
   "id": "2aac8c6e-2885-4a8c-b978-095710dcf0f4",
   "metadata": {},
   "source": [
    "## Question 4: Use Webscraping to Extract GME Revenue Data\n"
   ]
  },
  {
   "cell_type": "markdown",
   "id": "13ca9ffa-69c3-41b6-b777-8cafd346fdf8",
   "metadata": {},
   "source": [
    "Use the `requests` library to download the webpage https://cf-courses-data.s3.us.cloud-object-storage.appdomain.cloud/IBMDeveloperSkillsNetwork-PY0220EN-SkillsNetwork/labs/project/stock.html. Save the text of the response as a variable named `html_data_2`.\n"
   ]
  },
  {
   "cell_type": "code",
   "execution_count": 22,
   "id": "7c81c3c8-e0fb-40d9-9328-c65b1ce86fcf",
   "metadata": {},
   "outputs": [
    {
     "name": "stdout",
     "output_type": "stream",
     "text": [
      "<!DOCTYPE html>\n",
      "<!-- saved from url=(0105)https://web.archive.org/web/20200814131437/https://www.macrotrends.net/stocks/charts/GME/gamestop/revenue -->\n",
      "<html class=\" js flexbox canvas canvastext webgl no-touch geolocation postmessage websqldatabase indexeddb hashchange history draganddrop websockets rgba hsla multiplebgs backgroundsize borderimage borderradius boxshadow textshadow opacity cssanimations csscolumns cssgradients cssreflections csstransforms csstransforms3d csstransitions fontface g\n"
     ]
    }
   ],
   "source": [
    "import requests\n",
    "\n",
    "# URL of the webpage\n",
    "url = \"https://cf-courses-data.s3.us.cloud-object-storage.appdomain.cloud/IBMDeveloperSkillsNetwork-PY0220EN-SkillsNetwork/labs/project/stock.html\"\n",
    "\n",
    "# Download the webpage\n",
    "response = requests.get(url)\n",
    "\n",
    "# Save the text of the response\n",
    "html_data_2 = response.text\n",
    "\n",
    "# (Optional) check the first 500 characters\n",
    "print(html_data_2[:500])\n"
   ]
  },
  {
   "cell_type": "markdown",
   "id": "c4c0ce03-0c3b-43a3-a3ef-74b33f306a7e",
   "metadata": {},
   "source": [
    "Parse the html data using `beautiful_soup` using parser i.e `html5lib` or `html.parser`.\n"
   ]
  },
  {
   "cell_type": "code",
   "execution_count": 23,
   "id": "45646667-963d-4061-ace2-364dfc54ee77",
   "metadata": {},
   "outputs": [
    {
     "name": "stdout",
     "output_type": "stream",
     "text": [
      "<title>GameStop Revenue 2006-2020 | GME | MacroTrends</title>\n"
     ]
    }
   ],
   "source": [
    "from bs4 import BeautifulSoup\n",
    "\n",
    "# Parse the html_data_2 using html.parser\n",
    "soup_2 = BeautifulSoup(html_data_2, \"html.parser\")\n",
    "\n",
    "# To confirm parsing worked, print the title of the page\n",
    "print(soup_2.title)\n"
   ]
  },
  {
   "cell_type": "markdown",
   "id": "08bca61e-53ae-4fb3-a80e-7069730e649b",
   "metadata": {},
   "source": [
    "Using `BeautifulSoup` or the `read_html` function extract the table with `GameStop Revenue` and store it into a dataframe named `gme_revenue`. The dataframe should have columns `Date` and `Revenue`. Make sure the comma and dollar sign is removed from the `Revenue` column.\n"
   ]
  },
  {
   "cell_type": "markdown",
   "id": "5d2c8034-b806-4ec4-82f4-9ea0dfaf048c",
   "metadata": {},
   "source": [
    "> **Note: Use the method similar to what you did in question 2.**  \n"
   ]
  },
  {
   "cell_type": "markdown",
   "id": "36d29780-8d79-4f84-a139-32bcc8575648",
   "metadata": {},
   "source": [
    "<details><summary>Click here if you need help locating the table</summary>\n",
    "\n",
    "```\n",
    "    \n",
    "Below is the code to isolate the table, you will now need to loop through the rows and columns like in the previous lab\n",
    "    \n",
    "soup.find_all(\"tbody\")[1]\n",
    "    \n",
    "If you want to use the read_html function the table is located at index 1\n",
    "\n",
    "\n",
    "```\n",
    "\n",
    "</details>\n"
   ]
  },
  {
   "cell_type": "code",
   "execution_count": 24,
   "id": "5300c971-0eb3-49cf-b0a7-b166135b8a36",
   "metadata": {},
   "outputs": [
    {
     "name": "stderr",
     "output_type": "stream",
     "text": [
      "<>:20: SyntaxWarning: invalid escape sequence '\\$'\n",
      "<>:20: SyntaxWarning: invalid escape sequence '\\$'\n",
      "C:\\Users\\DELL\\AppData\\Local\\Temp\\ipykernel_7072\\3959911563.py:20: SyntaxWarning: invalid escape sequence '\\$'\n",
      "  gme_revenue[\"Revenue\"] = gme_revenue[\"Revenue\"].replace({'\\$': '', ',': ''}, regex=True)\n",
      "C:\\Users\\DELL\\AppData\\Local\\Temp\\ipykernel_7072\\3959911563.py:8: FutureWarning: Passing literal html to 'read_html' is deprecated and will be removed in a future version. To read from a literal string, wrap it in a 'StringIO' object.\n",
      "  tables = pd.read_html(str(soup_2))\n"
     ]
    },
    {
     "name": "stdout",
     "output_type": "stream",
     "text": [
      "         Date Revenue\n",
      "0  2020-04-30    1021\n",
      "1  2020-01-31    2194\n",
      "2  2019-10-31    1439\n",
      "3  2019-07-31    1286\n",
      "4  2019-04-30    1548\n"
     ]
    }
   ],
   "source": [
    "import pandas as pd\n",
    "from bs4 import BeautifulSoup\n",
    "\n",
    "# Parse the HTML\n",
    "soup_2 = BeautifulSoup(html_data_2, \"html.parser\")\n",
    "\n",
    "# Use pandas to read all tables\n",
    "tables = pd.read_html(str(soup_2))\n",
    "\n",
    "# Find the table that has 'GameStop Quarterly Revenue'\n",
    "for table in tables:\n",
    "    if \"GameStop Quarterly Revenue\" in str(table):\n",
    "        gme_revenue = table\n",
    "        break\n",
    "\n",
    "# Rename columns for clarity\n",
    "gme_revenue.columns = [\"Date\", \"Revenue\"]\n",
    "\n",
    "# Clean Revenue column (remove $ and ,)\n",
    "gme_revenue[\"Revenue\"] = gme_revenue[\"Revenue\"].replace({'\\$': '', ',': ''}, regex=True)\n",
    "\n",
    "# Drop any rows with missing values\n",
    "gme_revenue.dropna(inplace=True)\n",
    "\n",
    "# Reset index\n",
    "gme_revenue.reset_index(drop=True, inplace=True)\n",
    "\n",
    "# Display first 5 rows\n",
    "print(gme_revenue.head())\n"
   ]
  },
  {
   "cell_type": "markdown",
   "id": "8b8431ae-6ddd-4e9e-93c9-79af28a0c906",
   "metadata": {},
   "source": [
    "Display the last five rows of the `gme_revenue` dataframe using the `tail` function. Take a screenshot of the results.\n"
   ]
  },
  {
   "cell_type": "code",
   "execution_count": 25,
   "id": "875c38f8-8ba0-4ad2-8882-fee2c7cb1e94",
   "metadata": {},
   "outputs": [
    {
     "data": {
      "application/vnd.microsoft.datawrangler.viewer.v0+json": {
       "columns": [
        {
         "name": "index",
         "rawType": "int64",
         "type": "integer"
        },
        {
         "name": "Date",
         "rawType": "object",
         "type": "string"
        },
        {
         "name": "Revenue",
         "rawType": "object",
         "type": "string"
        }
       ],
       "ref": "239dab7a-63ea-4c76-8f92-36ffcdb3df06",
       "rows": [
        [
         "57",
         "2006-01-31",
         "1667"
        ],
        [
         "58",
         "2005-10-31",
         "534"
        ],
        [
         "59",
         "2005-07-31",
         "416"
        ],
        [
         "60",
         "2005-04-30",
         "475"
        ],
        [
         "61",
         "2005-01-31",
         "709"
        ]
       ],
       "shape": {
        "columns": 2,
        "rows": 5
       }
      },
      "text/html": [
       "<div>\n",
       "<style scoped>\n",
       "    .dataframe tbody tr th:only-of-type {\n",
       "        vertical-align: middle;\n",
       "    }\n",
       "\n",
       "    .dataframe tbody tr th {\n",
       "        vertical-align: top;\n",
       "    }\n",
       "\n",
       "    .dataframe thead th {\n",
       "        text-align: right;\n",
       "    }\n",
       "</style>\n",
       "<table border=\"1\" class=\"dataframe\">\n",
       "  <thead>\n",
       "    <tr style=\"text-align: right;\">\n",
       "      <th></th>\n",
       "      <th>Date</th>\n",
       "      <th>Revenue</th>\n",
       "    </tr>\n",
       "  </thead>\n",
       "  <tbody>\n",
       "    <tr>\n",
       "      <th>57</th>\n",
       "      <td>2006-01-31</td>\n",
       "      <td>1667</td>\n",
       "    </tr>\n",
       "    <tr>\n",
       "      <th>58</th>\n",
       "      <td>2005-10-31</td>\n",
       "      <td>534</td>\n",
       "    </tr>\n",
       "    <tr>\n",
       "      <th>59</th>\n",
       "      <td>2005-07-31</td>\n",
       "      <td>416</td>\n",
       "    </tr>\n",
       "    <tr>\n",
       "      <th>60</th>\n",
       "      <td>2005-04-30</td>\n",
       "      <td>475</td>\n",
       "    </tr>\n",
       "    <tr>\n",
       "      <th>61</th>\n",
       "      <td>2005-01-31</td>\n",
       "      <td>709</td>\n",
       "    </tr>\n",
       "  </tbody>\n",
       "</table>\n",
       "</div>"
      ],
      "text/plain": [
       "          Date Revenue\n",
       "57  2006-01-31    1667\n",
       "58  2005-10-31     534\n",
       "59  2005-07-31     416\n",
       "60  2005-04-30     475\n",
       "61  2005-01-31     709"
      ]
     },
     "execution_count": 25,
     "metadata": {},
     "output_type": "execute_result"
    }
   ],
   "source": [
    "# Display the last 5 rows of gme_revenue\n",
    "gme_revenue.tail()\n"
   ]
  },
  {
   "cell_type": "markdown",
   "id": "ad78102c-5163-4e5b-802d-c943f0643383",
   "metadata": {},
   "source": [
    "## Question 5: Plot Tesla Stock Graph\n"
   ]
  },
  {
   "cell_type": "markdown",
   "id": "45eada3d-7497-4376-bc47-27c5cc7e2c98",
   "metadata": {},
   "source": [
    "Use the `make_graph` function to graph the Tesla Stock Data, also provide a title for the graph. Note the graph will only show data upto June 2021.\n"
   ]
  },
  {
   "cell_type": "markdown",
   "id": "7d0e9023-8f10-4bbf-a0f8-1e4301b90aed",
   "metadata": {},
   "source": [
    "<details><summary>Hint</summary>\n",
    "\n",
    "```\n",
    "\n",
    "You just need to invoke the make_graph function with the required parameter to print the graphs.The structure to call the `make_graph` function is `make_graph(tesla_data, tesla_revenue, 'Tesla')`.\n",
    "\n",
    "```\n",
    "    \n",
    "</details>\n"
   ]
  },
  {
   "cell_type": "code",
   "execution_count": 32,
   "id": "3e4a570f-e47f-44ad-b58a-13b08497611f",
   "metadata": {},
   "outputs": [],
   "source": [
    "def make_graph(stock_data, revenue_data, stock_name):\n",
    "    import matplotlib.pyplot as plt\n",
    "    import pandas as pd\n",
    "\n",
    "    # Convert Date columns\n",
    "    stock_data['Date'] = pd.to_datetime(stock_data['Date']).dt.tz_localize(None)\n",
    "    revenue_data['Date'] = pd.to_datetime(revenue_data['Date'])\n",
    "\n",
    "    # Ensure Revenue is numeric (USD millions)\n",
    "    revenue_data[\"Revenue\"] = pd.to_numeric(revenue_data[\"Revenue\"], errors=\"coerce\")\n",
    "\n",
    "    # Create figure\n",
    "    fig, ax1 = plt.subplots(figsize=(14, 6))\n",
    "\n",
    "    # Plot stock price\n",
    "    ax1.plot(stock_data['Date'], stock_data['Close'], color='blue', label=\"Stock Price\")\n",
    "    ax1.set_xlabel(\"Date\")\n",
    "    ax1.set_ylabel(\"Stock Price (USD)\", color=\"blue\")\n",
    "    ax1.tick_params(axis=\"y\", labelcolor=\"blue\")\n",
    "\n",
    "    # Plot revenue\n",
    "    ax2 = ax1.twinx()\n",
    "    ax2.plot(revenue_data['Date'], revenue_data['Revenue'], color='green', label=\"Revenue\")\n",
    "    ax2.set_ylabel(\"Revenue (USD Millions)\", color=\"green\")\n",
    "    ax2.tick_params(axis=\"y\", labelcolor=\"green\")\n",
    "\n",
    "    # Add title\n",
    "    plt.title(f\"{stock_name} Stock Price & Revenue (Up to June 2021)\")\n",
    "    fig.tight_layout()\n",
    "    plt.show()\n"
   ]
  },
  {
   "cell_type": "markdown",
   "id": "f0f09c61-16f3-4235-b30b-ae10eb5369c4",
   "metadata": {},
   "source": [
    "## Question 6: Plot GameStop Stock Graph\n"
   ]
  },
  {
   "cell_type": "markdown",
   "id": "9924b9a9-8eac-4b07-ad9c-f17c2ca2f407",
   "metadata": {},
   "source": [
    "Use the `make_graph` function to graph the GameStop Stock Data, also provide a title for the graph. The structure to call the `make_graph` function is `make_graph(gme_data, gme_revenue, 'GameStop')`. Note the graph will only show data upto June 2021.\n"
   ]
  },
  {
   "cell_type": "markdown",
   "id": "5df489ff-9824-454e-b453-19cab43eb872",
   "metadata": {},
   "source": [
    "<details><summary>Hint</summary>\n",
    "\n",
    "```\n",
    "\n",
    "You just need to invoke the make_graph function with the required parameter to print the graphs.The structure to call the `make_graph` function is `make_graph(gme_data, gme_revenue, 'GameStop')`\n",
    "\n",
    "```\n",
    "    \n",
    "</details>\n"
   ]
  },
  {
   "cell_type": "code",
   "execution_count": 37,
   "metadata": {},
   "outputs": [],
   "source": [
    "def make_graph(stock_data, revenue_data, stock_name):\n",
    "    import matplotlib.pyplot as plt\n",
    "    import pandas as pd\n",
    "\n",
    "    # Convert Date columns\n",
    "    stock_data['Date'] = pd.to_datetime(stock_data['Date']).dt.tz_localize(None)\n",
    "    revenue_data['Date'] = pd.to_datetime(revenue_data['Date'])\n",
    "\n",
    "    # Ensure Revenue is numeric (USD millions)\n",
    "    revenue_data[\"Revenue\"] = pd.to_numeric(revenue_data[\"Revenue\"], errors=\"coerce\")\n",
    "\n",
    "    # Create figure\n",
    "    fig, ax1 = plt.subplots(figsize=(14, 6))\n",
    "\n",
    "    # Plot stock price\n",
    "    ax1.plot(stock_data['Date'], stock_data['Close'], color='blue', label=\"Stock Price\")\n",
    "    ax1.set_xlabel(\"Date\")\n",
    "    ax1.set_ylabel(\"Stock Price (USD)\", color=\"blue\")\n",
    "    ax1.tick_params(axis=\"y\", labelcolor=\"blue\")\n",
    "\n",
    "    # Plot revenue\n",
    "    ax2 = ax1.twinx()\n",
    "    ax2.plot(revenue_data['Date'], revenue_data['Revenue'], color='green', label=\"Revenue\")\n",
    "    ax2.set_ylabel(\"Revenue (USD Millions)\", color=\"green\")\n",
    "    ax2.tick_params(axis=\"y\", labelcolor=\"green\")\n",
    "\n",
    "    # Add title\n",
    "    plt.title(f\"{stock_name} Stock Price & Revenue (Up to June 2021)\")\n",
    "    fig.tight_layout()\n",
    "    plt.show()\n"
   ]
  },
  {
   "cell_type": "code",
   "execution_count": 36,
   "metadata": {},
   "outputs": [
    {
     "data": {
      "image/png": "[encoded data removed]",
      "text/plain": [
       "<Figure size 1400x600 with 2 Axes>"
      ]
     },
     "metadata": {},
     "output_type": "display_data"
    },
    {
     "data": {
      "image/png": "[encoded data removed]",
      "text/plain": [
       "<Figure size 1400x600 with 2 Axes>"
      ]
     },
     "metadata": {},
     "output_type": "display_data"
    }
   ],
   "source": [
    "# Tesla\n",
    "make_graph(tesla_data, tesla_revenue, \"Tesla\")\n",
    "\n",
    "# GameStop\n",
    "make_graph(gme_data, gme_revenue, \"GameStop\")\n"
   ]
  },
  {
   "cell_type": "markdown",
   "id": "5ca49323-b1b5-407d-9656-bba9c172c3f4",
   "metadata": {},
   "source": [
    "<h2>About the Authors:</h2> \n",
    "\n",
    "<a href=\"https://www.linkedin.com/in/joseph-s-50398b136/\">Joseph Santarcangelo</a> has a PhD in Electrical Engineering, his research focused on using machine learning, signal processing, and computer vision to determine how videos impact human cognition. Joseph has been working for IBM since he completed his PhD.\n",
    "\n",
    "Azim Hirjani\n"
   ]
  },
  {
   "cell_type": "markdown",
   "id": "9f657d8c-23ff-4145-9af2-126156342d4a",
   "metadata": {},
   "source": [
    "## Change Log\n",
    "\n",
    "| Date (YYYY-MM-DD) | Version | Changed By    | Change Description        |\n",
    "| ----------------- | ------- | ------------- | ------------------------- |\n",
    "| 2022-02-28        | 1.2     | Lakshmi Holla | Changed the URL of GameStop |\n",
    "| 2020-11-10        | 1.1     | Malika Singla | Deleted the Optional part |\n",
    "| 2020-08-27        | 1.0     | Malika Singla | Added lab to GitLab       |\n",
    "\n",
    "<hr>\n",
    "\n",
    "## <h3 align=\"center\"> © IBM Corporation 2020. All rights reserved. <h3/>\n",
    "\n",
    "<p>\n"
   ]
  }
 ],
 "metadata": {
  "kernelspec": {
   "display_name": "Python 3",
   "language": "python",
   "name": "python3"
  },
  "language_info": {
   "codemirror_mode": {
    "name": "ipython",
    "version": 3
   },
   "file_extension": ".py",
   "mimetype": "text/x-python",
   "name": "python",
   "nbconvert_exporter": "python",
   "pygments_lexer": "ipython3",
   "version": "3.13.7"
  },
  "prev_pub_hash": "a254c181ff89ab7bfd41849357df0b3716744f3a6dc743cb8ee1d0c6ffe92fcd"
 },
 "nbformat": 4,
 "nbformat_minor": 4
}
